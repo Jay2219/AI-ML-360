{
 "cells": [
  {
   "attachments": {},
   "cell_type": "markdown",
   "metadata": {},
   "source": [
    "<a href=\"https://colab.research.google.com/drive/1pNE_mo5fjyaImoL9IQ8gjfbHJKtIyi5m\" target=\"_parent\"><img src=\"https://colab.research.google.com/assets/colab-badge.svg\" alt=\"Open In Colab\"/></a>"
   ]
  },
  {
   "attachments": {},
   "cell_type": "markdown",
   "metadata": {},
   "source": [
    "## Variables & Data Types In Python\n"
   ]
  },
  {
   "attachments": {},
   "cell_type": "markdown",
   "metadata": {},
   "source": [
    "###     1. Naming Conventions\n",
    "- Use lowercase letters for variable names.\n",
    "- Separate words in variable names with underscores (_).\n",
    "- Avoid using reserved keywords as variable names.\n",
    "- Use descriptive and meaningful names for variables.\n",
    "- Constants should be in all capital letters."
   ]
  },
  {
   "cell_type": "code",
   "execution_count": null,
   "metadata": {},
   "outputs": [],
   "source": [
    "# Variables\n",
    "first_name = \"John\"\n",
    "last_name = \"Doe\"\n",
    "age = 30\n",
    "\n",
    "# Constants\n",
    "PI = 3.1416\n",
    "GRAVITY = 9.8"
   ]
  },
  {
   "attachments": {},
   "cell_type": "markdown",
   "metadata": {},
   "source": [
    "###     2. Data Types\n"
   ]
  },
  {
   "attachments": {},
   "cell_type": "markdown",
   "metadata": {},
   "source": [
    "Integer: An integer is a whole number without a fractional part. It can be positive, negative, or zero."
   ]
  },
  {
   "cell_type": "code",
   "execution_count": null,
   "metadata": {},
   "outputs": [],
   "source": [
    "x = 5\n",
    "y = -3\n",
    "z = 0"
   ]
  },
  {
   "attachments": {},
   "cell_type": "markdown",
   "metadata": {},
   "source": [
    "Float: A float is a number with a decimal point. It can also be positive, negative, or zero."
   ]
  },
  {
   "cell_type": "code",
   "execution_count": null,
   "metadata": {},
   "outputs": [],
   "source": [
    "a = 3.14\n",
    "b = -2.5\n",
    "c = 0.0"
   ]
  },
  {
   "attachments": {},
   "cell_type": "markdown",
   "metadata": {},
   "source": [
    "String: A string is a sequence of characters enclosed in quotes (either single or double quotes)."
   ]
  },
  {
   "cell_type": "code",
   "execution_count": null,
   "metadata": {},
   "outputs": [],
   "source": [
    "name = \"John\"\n",
    "address = '123 Main St'"
   ]
  },
  {
   "attachments": {},
   "cell_type": "markdown",
   "metadata": {},
   "source": [
    "Boolean: A Boolean value is either True or False"
   ]
  },
  {
   "cell_type": "code",
   "execution_count": null,
   "metadata": {},
   "outputs": [],
   "source": [
    "p = True\n",
    "q = False"
   ]
  },
  {
   "attachments": {},
   "cell_type": "markdown",
   "metadata": {},
   "source": [
    "List: A list is an ordered collection of values, enclosed in square brackets and separated by commas."
   ]
  },
  {
   "cell_type": "code",
   "execution_count": null,
   "metadata": {},
   "outputs": [],
   "source": [
    "fruits = ['apple', 'banana', 'cherry', 'orange']\n",
    "\n",
    "print(fruits[0])    # Output: apple\n",
    "print(fruits[1])    # Output: banana\n",
    "print(fruits[-1])   # Output: orange (negative index starts from the end)\n",
    "\n",
    "\n",
    "fruits[1] = 'mango'\n",
    "print(fruits)    # Output: ['apple', 'mango', 'cherry', 'orange']\n",
    "\n",
    "\n",
    "fruits.append('pear')\n",
    "print(fruits)    # Output: ['apple', 'mango', 'cherry', 'orange', 'pear']\n",
    "\n",
    "\n",
    "fruits.remove('cherry')\n",
    "print(fruits)    # Output: ['apple', 'mango', 'orange', 'pear']"
   ]
  },
  {
   "attachments": {},
   "cell_type": "markdown",
   "metadata": {},
   "source": [
    "Tuple: A tuple is similar to a list, but it is immutable (cannot be changed)."
   ]
  },
  {
   "cell_type": "code",
   "execution_count": null,
   "metadata": {},
   "outputs": [],
   "source": [
    "my_tuple = (1, \"hello\", True, 3.14)\n",
    "\n",
    "#Accessing Elements\n",
    "\n",
    "print(my_tuple[0]) # output: 1\n",
    "print(my_tuple[1]) # output: \"hello\"\n",
    "\n",
    "#Slicing\n",
    "\n",
    "print(my_tuple[1:3]) # output: (\"hello\", True)\n",
    "\n",
    "#Packing\n",
    "\n",
    "my_packed_tuple = 1, \"hello\", True\n",
    "\n",
    "#Unpacking\n",
    "\n",
    "a, b, c = my_packed_tuple\n",
    "print(a) # output: 1\n",
    "print(b) # output: \"hello\"\n",
    "print(c) # output: True\n",
    "\n",
    "#Count & Index  \n",
    "\n",
    "my_tuple = (1, 2, 2, 3, 3, 3)\n",
    "print(my_tuple.count(2)) # output: 2\n",
    "print(my_tuple.index(3)) # output: 3\n"
   ]
  },
  {
   "attachments": {},
   "cell_type": "markdown",
   "metadata": {},
   "source": [
    "Dictionary: A dictionary is a collection of key-value pairs, enclosed in curly braces and separated by commas."
   ]
  },
  {
   "cell_type": "code",
   "execution_count": null,
   "metadata": {},
   "outputs": [],
   "source": [
    "my_dict = {\"apple\": 3, \"banana\": 2, \"cherry\": 5}\n",
    "\n",
    "print(len(my_dict))  # Output: 3\n",
    "\n",
    "print(my_dict.keys())  # Output: dict_keys(['apple', 'banana', 'cherry'])\n",
    "\n",
    "print(my_dict.values())  # Output: dict_values([3, 2, 5])\n",
    "\n",
    "print(my_dict.get(\"banana\"))  # Output: 2\n",
    "\n",
    "my_dict.update({\"orange\": 4})\n",
    "print(my_dict)  # Output: {'apple': 3, 'banana': 2, 'cherry': 5, 'orange': 4}\n",
    "\n",
    "my_dict.pop(\"banana\")\n",
    "print(my_dict)  # Output: {'apple': 3, 'cherry': 5, 'orange': 4}\n"
   ]
  },
  {
   "attachments": {},
   "cell_type": "markdown",
   "metadata": {},
   "source": [
    "Set : Set is a collection of unique elements enclosed in curly braces {} and separated by commas. Sets are mutable and can contain elements of different data types, including integers, strings, and tuples."
   ]
  },
  {
   "cell_type": "code",
   "execution_count": null,
   "metadata": {},
   "outputs": [],
   "source": [
    "# Creating an empty set\n",
    "my_set = set()\n",
    "\n",
    "# Creating a set with initial elements\n",
    "my_set = {1, 2, 3, 'hello', (4, 5, 6)}\n",
    "\n",
    "# Adding a single element\n",
    "my_set.add(7)\n",
    "\n",
    "# Adding multiple elements\n",
    "my_set.update({8, 9, 'world'})\n",
    "\n",
    "# Removing an element\n",
    "my_set.remove(1)\n",
    "\n",
    "# Discarding an element\n",
    "my_set.discard('hello')\n",
    "\n",
    "# Union of two sets\n",
    "set1 = {1, 2, 3}\n",
    "set2 = {3, 4, 5}\n",
    "set3 = set1.union(set2)  # {1, 2, 3, 4, 5}\n",
    "\n",
    "# Intersection of two sets\n",
    "set4 = {2, 3, 4}\n",
    "set5 = {3, 4, 5}\n",
    "set6 = set4.intersection(set5)  # {3, 4}\n",
    "\n",
    "# Difference between two sets\n",
    "set7 = {1, 2, 3}\n",
    "set8 = {3, 4, 5}\n",
    "set9 = set7.difference(set8)  # {1, 2}"
   ]
  },
  {
   "attachments": {},
   "cell_type": "markdown",
   "metadata": {},
   "source": [
    "#### Applications Of Each Data Types\n",
    "\n",
    "1. List : To Store Posts, Comments etc.\n",
    "\n",
    "2. Dictionary : User Login Details.\n",
    "\n",
    "3. Set : Remove Duplicates From the Data\n",
    "\n",
    "4. Tuple : Birth Date of The User."
   ]
  },
  {
   "attachments": {},
   "cell_type": "markdown",
   "metadata": {},
   "source": [
    "### Slicing & Dicing (GodFather)"
   ]
  },
  {
   "attachments": {
    "image.png": {
     "image/png": "[encoded data removed]"
    }
   },
   "cell_type": "markdown",
   "metadata": {},
   "source": [
    "![image.png](attachment:image.png)"
   ]
  },
  {
   "attachments": {},
   "cell_type": "markdown",
   "metadata": {},
   "source": [
    "#### Slicing\n",
    "\n",
    "Slicing is a technique of selecting a subset of data from a larger dataset by selecting a contiguous section of rows or columns."
   ]
  },
  {
   "cell_type": "code",
   "execution_count": null,
   "metadata": {},
   "outputs": [],
   "source": [
    "#simple slicing\n",
    "my_list = [1, 2, 3, 4, 5]\n",
    "print(my_list[1:4])  # output: [2, 3, 4]\n",
    "\n",
    "#slicing using negative indexing\n",
    "my_list = [1, 2, 3, 4, 5]\n",
    "print(my_list[-3:-1])  # output: [3, 4]\n",
    "\n",
    "#string slicing\n",
    "my_string = \"hello world\"\n",
    "print(my_string[1:5])  # output: \"ello\"\n",
    "\n",
    "#reverse\n",
    "my_list = [1, 2, 3, 4, 5]\n",
    "my_list_reversed = my_list[::-1]\n",
    "print(my_list_reversed)  # output: [5, 4, 3, 2, 1]\n"
   ]
  },
  {
   "attachments": {},
   "cell_type": "markdown",
   "metadata": {},
   "source": [
    "#### Dicing\n",
    "\n",
    "Dicing, involves breaking down a larger data set into smaller parts based on certain criteria. It involves grouping data by certain variables or characteristics to create multiple subsets of data."
   ]
  },
  {
   "cell_type": "code",
   "execution_count": null,
   "metadata": {},
   "outputs": [],
   "source": [
    "# Dicing a list\n",
    "my_list = [1, 2, 3, 4, 5, 6, 7, 8, 9]\n",
    "print(my_list[1:8:2])  # Output: [2, 4, 6, 8]"
   ]
  },
  {
   "attachments": {},
   "cell_type": "markdown",
   "metadata": {},
   "source": [
    "#### Application Of Slicing & Dicing\n",
    "\n",
    "SuperMarket chain wants to analyze their sales data for the past year to identify patterns and trends in customer purchases. They have a large dataset that includes information on the date of purchase, the items purchased, the location of the store, the payment method, and the customer demographics.\n",
    "\n",
    "- Slice the data by date to analyze sales trends over time, such as identifying peak sales periods or seasonal fluctuations.\n",
    "- Dice the data by location to compare sales performance between different stores or regions, and identify areas where they may need to focus on improving sales.\n",
    "- Slice the data by payment method to understand which payment methods are most popular among customers, and identify any payment trends.\n",
    "- Dice the data by customer demographics to analyze the purchasing patterns of different customer segments, such as age, gender, or income level."
   ]
  },
  {
   "attachments": {},
   "cell_type": "markdown",
   "metadata": {},
   "source": [
    "###     2. Operators & Expressions"
   ]
  },
  {
   "attachments": {},
   "cell_type": "markdown",
   "metadata": {},
   "source": [
    "#### Arithmetic Operator"
   ]
  },
  {
   "cell_type": "code",
   "execution_count": null,
   "metadata": {},
   "outputs": [],
   "source": [
    "# addition\n",
    "x = 10\n",
    "y = 5\n",
    "result = x + y\n",
    "print(result) # output: 15"
   ]
  },
  {
   "cell_type": "code",
   "execution_count": null,
   "metadata": {},
   "outputs": [],
   "source": [
    "# subtraction\n",
    "x = 10\n",
    "y = 5\n",
    "result = x - y\n",
    "print(result) # output: 5"
   ]
  },
  {
   "cell_type": "code",
   "execution_count": null,
   "metadata": {},
   "outputs": [],
   "source": [
    "# multiplication\n",
    "x = 10\n",
    "y = 5\n",
    "result = x * y\n",
    "print(result) # output: 50"
   ]
  },
  {
   "cell_type": "code",
   "execution_count": null,
   "metadata": {},
   "outputs": [],
   "source": [
    "# division\n",
    "x = 10\n",
    "y = 5\n",
    "result = x / y\n",
    "print(result) # output: 2.0"
   ]
  },
  {
   "cell_type": "code",
   "execution_count": null,
   "metadata": {},
   "outputs": [],
   "source": [
    "# modulus\n",
    "x = 10\n",
    "y = 3\n",
    "result = x % y\n",
    "print(result) # output: 1"
   ]
  },
  {
   "cell_type": "code",
   "execution_count": null,
   "metadata": {},
   "outputs": [],
   "source": [
    "# exponentiation\n",
    "x = 2\n",
    "y = 3\n",
    "result = x ** y\n",
    "print(result) # output: 8"
   ]
  },
  {
   "cell_type": "code",
   "execution_count": null,
   "metadata": {},
   "outputs": [],
   "source": [
    "# floor division\n",
    "x = 10\n",
    "y = 3\n",
    "result = x // y\n",
    "print(result) # output: 3"
   ]
  },
  {
   "attachments": {},
   "cell_type": "markdown",
   "metadata": {},
   "source": [
    "#### Comparison Operator"
   ]
  },
  {
   "cell_type": "code",
   "execution_count": null,
   "metadata": {},
   "outputs": [],
   "source": []
  },
  {
   "attachments": {},
   "cell_type": "markdown",
   "metadata": {},
   "source": [
    "#### Logical Operators"
   ]
  },
  {
   "cell_type": "code",
   "execution_count": null,
   "metadata": {},
   "outputs": [],
   "source": [
    "x = 5\n",
    "y = 10\n",
    "\n",
    "# Using \"and\" operator\n",
    "if x > 0 and y > 0:\n",
    "    print(\"Both x and y are greater than 0\")\n",
    "\n",
    "# Using \"or\" operator\n",
    "if x > 0 or y > 0:\n",
    "    print(\"At least one of x and y is greater than 0\")\n",
    "\n",
    "# Using \"not\" operator\n",
    "if not(x < 0):\n",
    "    print(\"x is not less than 0\")"
   ]
  },
  {
   "attachments": {},
   "cell_type": "markdown",
   "metadata": {},
   "source": [
    "#### Membership Operators"
   ]
  },
  {
   "cell_type": "code",
   "execution_count": null,
   "metadata": {},
   "outputs": [],
   "source": [
    "# define a list of numbers\n",
    "numbers = [1, 2, 3, 4, 5]\n",
    "\n",
    "# check if a value is a member of the list using the 'in' operator\n",
    "if 3 in numbers:\n",
    "    print(\"3 is in the list of numbers\")\n",
    "else:\n",
    "    print(\"3 is not in the list of numbers\")\n",
    "\n",
    "# check if a value is not a member of the list using the 'not in' operator\n",
    "if 6 not in numbers:\n",
    "    print(\"6 is not in the list of numbers\")\n",
    "else:\n",
    "    print(\"6 is in the list of numbers\")"
   ]
  },
  {
   "attachments": {},
   "cell_type": "markdown",
   "metadata": {},
   "source": [
    "###     3. Conditional Operators"
   ]
  },
  {
   "cell_type": "code",
   "execution_count": null,
   "metadata": {},
   "outputs": [],
   "source": [
    "#if\n",
    "\n",
    "#if-else\n",
    "\n",
    "#if-else ladder"
   ]
  },
  {
   "attachments": {},
   "cell_type": "markdown",
   "metadata": {},
   "source": [
    "###     4. Loops"
   ]
  },
  {
   "attachments": {},
   "cell_type": "markdown",
   "metadata": {},
   "source": [
    "#### For Loop"
   ]
  },
  {
   "cell_type": "code",
   "execution_count": null,
   "metadata": {},
   "outputs": [],
   "source": [
    "for variable in sequence:\n",
    "    # do something with variable"
   ]
  },
  {
   "cell_type": "code",
   "execution_count": null,
   "metadata": {},
   "outputs": [],
   "source": [
    "numbers = [1, 2, 3, 4, 5]\n",
    "for num in numbers:\n",
    "    print(num)"
   ]
  },
  {
   "cell_type": "code",
   "execution_count": null,
   "metadata": {},
   "outputs": [],
   "source": [
    "string = \"hello\"\n",
    "for letter in string:\n",
    "    print(letter)"
   ]
  },
  {
   "attachments": {},
   "cell_type": "markdown",
   "metadata": {},
   "source": [
    "#### While Loop"
   ]
  },
  {
   "cell_type": "code",
   "execution_count": null,
   "metadata": {},
   "outputs": [],
   "source": [
    "#syntax\n",
    "while condition:\n",
    "    # code to be executed while condition is true"
   ]
  },
  {
   "cell_type": "code",
   "execution_count": null,
   "metadata": {},
   "outputs": [],
   "source": [
    "i = 1\n",
    "while i<=5:\n",
    "    print(i)\n",
    "    i+=1"
   ]
  },
  {
   "cell_type": "code",
   "execution_count": null,
   "metadata": {},
   "outputs": [],
   "source": [
    "#break\n",
    "i = 1\n",
    "while i <= 5:\n",
    "    print(i)\n",
    "    if i == 3:\n",
    "        break\n",
    "    i += 1\n"
   ]
  },
  {
   "cell_type": "code",
   "execution_count": null,
   "metadata": {},
   "outputs": [],
   "source": [
    "#continue\n",
    "i = 1\n",
    "while i <= 5:\n",
    "    if i == 3:\n",
    "        i += 1\n",
    "        continue\n",
    "    print(i)\n",
    "    i += 1\n"
   ]
  },
  {
   "attachments": {},
   "cell_type": "markdown",
   "metadata": {},
   "source": [
    "#### Looping Techniques"
   ]
  },
  {
   "attachments": {},
   "cell_type": "markdown",
   "metadata": {},
   "source": [
    "Range: The range() function generates a sequence of numbers, starting from 0 by default, and increments by 1 (by default) and stops before a specified number."
   ]
  },
  {
   "cell_type": "code",
   "execution_count": null,
   "metadata": {},
   "outputs": [],
   "source": [
    "# Print numbers from 0 to 4\n",
    "for i in range(5):\n",
    "    print(i)"
   ]
  },
  {
   "attachments": {},
   "cell_type": "markdown",
   "metadata": {},
   "source": [
    "Enumerate: The enumerate() function adds a counter to an iterable and returns it in a form of an enumerate object, which can be used directly in loops."
   ]
  },
  {
   "cell_type": "code",
   "execution_count": null,
   "metadata": {},
   "outputs": [],
   "source": [
    "# Print the index and value of each element in a list\n",
    "fruits = ['apple', 'banana', 'cherry']\n",
    "for i, fruit in enumerate(fruits):\n",
    "    print(i, fruit)"
   ]
  },
  {
   "attachments": {},
   "cell_type": "markdown",
   "metadata": {},
   "source": [
    "Zip: The zip() function takes multiple iterables as arguments and returns an iterator of tuples, where the i-th tuple contains the i-th element from each of the argument sequences."
   ]
  },
  {
   "cell_type": "code",
   "execution_count": null,
   "metadata": {},
   "outputs": [],
   "source": [
    "# Combine two lists into a single list of tuples\n",
    "names = ['Alice', 'Bob', 'Charlie']\n",
    "ages = [25, 30, 35]\n",
    "for name, age in zip(names, ages):\n",
    "    print(name, age)"
   ]
  },
  {
   "attachments": {},
   "cell_type": "markdown",
   "metadata": {},
   "source": [
    "List comprehension: List comprehension is a concise way to create a list based on some condition or transformation of elements in another list."
   ]
  },
  {
   "cell_type": "code",
   "execution_count": null,
   "metadata": {},
   "outputs": [],
   "source": [
    "# Create a list of squared numbers from 0 to 9\n",
    "squares = [i**2 for i in range(10)]\n",
    "print(squares)"
   ]
  }
 ],
 "metadata": {
  "language_info": {
   "name": "python"
  },
  "orig_nbformat": 4
 },
 "nbformat": 4,
 "nbformat_minor": 2
}
